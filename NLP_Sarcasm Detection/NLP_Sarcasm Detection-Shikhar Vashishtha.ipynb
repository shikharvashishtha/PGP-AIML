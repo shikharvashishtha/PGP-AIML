{
 "cells": [
  {
   "cell_type": "markdown",
   "metadata": {
    "id": "OXdJVUoHCcSu"
   },
   "source": [
    "![alt text](https://drive.google.com/uc?export=view&id=1UXScsVx_Wni_JuDdB8LeTnM6jsPfIwkW)\n",
    "\n",
    "Proprietary content. © Great Learning. All Rights Reserved. Unauthorized use or distribution prohibited.\n",
    "\n"
   ]
  },
  {
   "cell_type": "markdown",
   "metadata": {
    "id": "Q3XSousiCPud"
   },
   "source": [
    "Dataset\n",
    "Acknowledgement\n",
    "Misra, Rishabh, and Prahal Arora. \"Sarcasm Detection using Hybrid Neural Network.\" arXiv preprint arXiv:1908.07414 (2019).\n",
    "\n",
    "Required Files given in below link.\n",
    "\n",
    "https://drive.google.com/drive/folders/1xUnF35naPGU63xwRDVGc-DkZ3M8V5mMk"
   ]
  },
  {
   "cell_type": "markdown",
   "metadata": {
    "id": "HiWcr28rCXtU"
   },
   "source": [
    "### Package Version:\n",
    "- tensorflow==2.2.0\n",
    "- pandas==1.0.5\n",
    "- numpy==1.18.5\n",
    "- google==2.0.3"
   ]
  },
  {
   "cell_type": "code",
   "execution_count": 1,
   "metadata": {
    "colab": {
     "base_uri": "https://localhost:8080/",
     "height": 35
    },
    "id": "LPh9OlDrB3m2",
    "outputId": "f5e9ce0e-6175-4cf8-c40d-e39727a35ee8"
   },
   "outputs": [
    {
     "name": "stdout",
     "output_type": "stream",
     "text": [
      "Mounted at /content/drive\n"
     ]
    }
   ],
   "source": [
    "from google.colab import drive\n",
    "drive.mount('/content/drive',force_remount=True)"
   ]
  },
  {
   "cell_type": "markdown",
   "metadata": {
    "id": "fcbTw8AzCwiU"
   },
   "source": [
    "### Load Data (3 Marks)\n"
   ]
  },
  {
   "cell_type": "code",
   "execution_count": 2,
   "metadata": {
    "id": "8FRQxUCkECC6"
   },
   "outputs": [],
   "source": [
    "import os; \n",
    "os.chdir('drive/My Drive/AIML/Sarcasm Detection/')"
   ]
  },
  {
   "cell_type": "code",
   "execution_count": 4,
   "metadata": {
    "id": "2CzZ-8VMRVoz"
   },
   "outputs": [],
   "source": [
    "# Import packages\n",
    "import warnings; warnings.filterwarnings('ignore')\n",
    "import pandas as pd, numpy as np, tensorflow as tf\n",
    "import matplotlib.pyplot as plt, seaborn as sns\n",
    "import matplotlib.style as style\n",
    "\n",
    "import random, re\n",
    "assert tf.__version__ >= '2.0'\n",
    "%matplotlib inline\n",
    "\n",
    "# Models\n",
    "from tensorflow.keras.layers import Dense, LSTM, Embedding, Dropout, Flatten, Bidirectional, GlobalMaxPool1D\n",
    "from tensorflow.keras.callbacks import EarlyStopping, ModelCheckpoint, ReduceLROnPlateau, TensorBoard\n",
    "from tensorflow.keras.preprocessing.sequence import pad_sequences\n",
    "from tensorflow.keras.preprocessing.text import Tokenizer\n",
    "from tensorflow.keras.models import Model, Sequential\n",
    "from tensorflow.keras.initializers import Constant\n",
    "\n",
    "from sklearn.metrics import classification_report, confusion_matrix\n",
    "from sklearn.model_selection import train_test_split\n",
    "\n",
    "# Set random state\n",
    "random_state = 42\n",
    "np.random.seed(random_state)\n",
    "tf.random.set_seed(random_state)"
   ]
  },
  {
   "cell_type": "code",
   "execution_count": 5,
   "metadata": {
    "colab": {
     "base_uri": "https://localhost:8080/",
     "height": 219
    },
    "id": "L-0yuPt9RkHT",
    "outputId": "814c1060-fc74-435a-e0b8-648a988d41cf"
   },
   "outputs": [
    {
     "name": "stdout",
     "output_type": "stream",
     "text": [
      "Data has 26709 rows and 3 columns. Here are the first five rows of the data...\n"
     ]
    },
    {
     "data": {
      "text/html": [
       "<div>\n",
       "<style scoped>\n",
       "    .dataframe tbody tr th:only-of-type {\n",
       "        vertical-align: middle;\n",
       "    }\n",
       "\n",
       "    .dataframe tbody tr th {\n",
       "        vertical-align: top;\n",
       "    }\n",
       "\n",
       "    .dataframe thead th {\n",
       "        text-align: right;\n",
       "    }\n",
       "</style>\n",
       "<table border=\"1\" class=\"dataframe\">\n",
       "  <thead>\n",
       "    <tr style=\"text-align: right;\">\n",
       "      <th></th>\n",
       "      <th>article_link</th>\n",
       "      <th>headline</th>\n",
       "      <th>is_sarcastic</th>\n",
       "    </tr>\n",
       "  </thead>\n",
       "  <tbody>\n",
       "    <tr>\n",
       "      <th>0</th>\n",
       "      <td>https://www.huffingtonpost.com/entry/versace-b...</td>\n",
       "      <td>former versace store clerk sues over secret 'b...</td>\n",
       "      <td>0</td>\n",
       "    </tr>\n",
       "    <tr>\n",
       "      <th>1</th>\n",
       "      <td>https://www.huffingtonpost.com/entry/roseanne-...</td>\n",
       "      <td>the 'roseanne' revival catches up to our thorn...</td>\n",
       "      <td>0</td>\n",
       "    </tr>\n",
       "    <tr>\n",
       "      <th>2</th>\n",
       "      <td>https://local.theonion.com/mom-starting-to-fea...</td>\n",
       "      <td>mom starting to fear son's web series closest ...</td>\n",
       "      <td>1</td>\n",
       "    </tr>\n",
       "    <tr>\n",
       "      <th>3</th>\n",
       "      <td>https://politics.theonion.com/boehner-just-wan...</td>\n",
       "      <td>boehner just wants wife to listen, not come up...</td>\n",
       "      <td>1</td>\n",
       "    </tr>\n",
       "    <tr>\n",
       "      <th>4</th>\n",
       "      <td>https://www.huffingtonpost.com/entry/jk-rowlin...</td>\n",
       "      <td>j.k. rowling wishes snape happy birthday in th...</td>\n",
       "      <td>0</td>\n",
       "    </tr>\n",
       "  </tbody>\n",
       "</table>\n",
       "</div>"
      ],
      "text/plain": [
       "                                        article_link  ... is_sarcastic\n",
       "0  https://www.huffingtonpost.com/entry/versace-b...  ...            0\n",
       "1  https://www.huffingtonpost.com/entry/roseanne-...  ...            0\n",
       "2  https://local.theonion.com/mom-starting-to-fea...  ...            1\n",
       "3  https://politics.theonion.com/boehner-just-wan...  ...            1\n",
       "4  https://www.huffingtonpost.com/entry/jk-rowlin...  ...            0\n",
       "\n",
       "[5 rows x 3 columns]"
      ]
     },
     "metadata": {
      "tags": []
     },
     "output_type": "display_data"
    }
   ],
   "source": [
    "data = pd.read_json('./Data/Sarcasm_Headlines_Dataset.json', lines = True)\n",
    "print(f'Data has {data.shape[0]} rows and {data.shape[1]} columns. Here are the first five rows of the data...')\n",
    "display(data.head())"
   ]
  },
  {
   "cell_type": "markdown",
   "metadata": {
    "id": "jW7EsMqvTsMD"
   },
   "source": [
    "# Drop article_link from dataset."
   ]
  },
  {
   "cell_type": "code",
   "execution_count": 6,
   "metadata": {
    "id": "7dcoUESyTs7I"
   },
   "outputs": [],
   "source": [
    "data.drop('article_link', axis = 1, inplace = True)"
   ]
  },
  {
   "cell_type": "code",
   "execution_count": 7,
   "metadata": {
    "colab": {
     "base_uri": "https://localhost:8080/",
     "height": 202
    },
    "id": "67qndz4ITxz6",
    "outputId": "b4639b68-18ef-4c37-97b7-2b1b9c2e3b08"
   },
   "outputs": [
    {
     "data": {
      "text/html": [
       "<div>\n",
       "<style scoped>\n",
       "    .dataframe tbody tr th:only-of-type {\n",
       "        vertical-align: middle;\n",
       "    }\n",
       "\n",
       "    .dataframe tbody tr th {\n",
       "        vertical-align: top;\n",
       "    }\n",
       "\n",
       "    .dataframe thead th {\n",
       "        text-align: right;\n",
       "    }\n",
       "</style>\n",
       "<table border=\"1\" class=\"dataframe\">\n",
       "  <thead>\n",
       "    <tr style=\"text-align: right;\">\n",
       "      <th></th>\n",
       "      <th>headline</th>\n",
       "      <th>is_sarcastic</th>\n",
       "    </tr>\n",
       "  </thead>\n",
       "  <tbody>\n",
       "    <tr>\n",
       "      <th>0</th>\n",
       "      <td>former versace store clerk sues over secret 'b...</td>\n",
       "      <td>0</td>\n",
       "    </tr>\n",
       "    <tr>\n",
       "      <th>1</th>\n",
       "      <td>the 'roseanne' revival catches up to our thorn...</td>\n",
       "      <td>0</td>\n",
       "    </tr>\n",
       "    <tr>\n",
       "      <th>2</th>\n",
       "      <td>mom starting to fear son's web series closest ...</td>\n",
       "      <td>1</td>\n",
       "    </tr>\n",
       "    <tr>\n",
       "      <th>3</th>\n",
       "      <td>boehner just wants wife to listen, not come up...</td>\n",
       "      <td>1</td>\n",
       "    </tr>\n",
       "    <tr>\n",
       "      <th>4</th>\n",
       "      <td>j.k. rowling wishes snape happy birthday in th...</td>\n",
       "      <td>0</td>\n",
       "    </tr>\n",
       "  </tbody>\n",
       "</table>\n",
       "</div>"
      ],
      "text/plain": [
       "                                            headline  is_sarcastic\n",
       "0  former versace store clerk sues over secret 'b...             0\n",
       "1  the 'roseanne' revival catches up to our thorn...             0\n",
       "2  mom starting to fear son's web series closest ...             1\n",
       "3  boehner just wants wife to listen, not come up...             1\n",
       "4  j.k. rowling wishes snape happy birthday in th...             0"
      ]
     },
     "execution_count": 7,
     "metadata": {
      "tags": []
     },
     "output_type": "execute_result"
    }
   ],
   "source": [
    "data.head()"
   ]
  },
  {
   "cell_type": "markdown",
   "metadata": {
    "id": "O0XCpFqtU5-a"
   },
   "source": [
    "# Data Preprocessing\n",
    "\n",
    "\n",
    "\n",
    "\n",
    "*   Converting to lower case\n",
    "*   Avoid any capital cases\n",
    "*   Removing punctuations"
   ]
  },
  {
   "cell_type": "code",
   "execution_count": 8,
   "metadata": {
    "colab": {
     "base_uri": "https://localhost:8080/",
     "height": 69
    },
    "id": "5qU9K1GPn_JI",
    "outputId": "0ec15e30-f990-48ca-a95f-9c8cc6c60681"
   },
   "outputs": [
    {
     "name": "stdout",
     "output_type": "stream",
     "text": [
      "------------------------------------------------------------\n",
      "Converting headlines to lower case\n",
      "Removing multiple spaces between words\n"
     ]
    }
   ],
   "source": [
    "print('--'*30); print('Converting headlines to lower case')\n",
    "data['cleaned_headline'] = data['headline'].apply(lambda x : x.lower())\n",
    "\n",
    "print('Removing multiple spaces between words')\n",
    "data['cleaned_headline'] = data['cleaned_headline'].apply(lambda x: re.sub(' +', ' ', x))"
   ]
  },
  {
   "cell_type": "markdown",
   "metadata": {
    "id": "62O04pO6UKNB"
   },
   "source": [
    "## Get length of each headline and add a column for that (3 Marks)\n",
    "​"
   ]
  },
  {
   "cell_type": "code",
   "execution_count": 9,
   "metadata": {
    "colab": {
     "base_uri": "https://localhost:8080/",
     "height": 89
    },
    "id": "J2gpQQJfUKwi",
    "outputId": "4f00e5fc-c5ee-4c48-9dfb-8291ebd795e1"
   },
   "outputs": [
    {
     "name": "stdout",
     "output_type": "stream",
     "text": [
      "Minimum line length: 7\n",
      "Maximum line length: 254\n",
      "Line with maximum length: maya angelou, poet, author, civil rights activist, and—holy cow—tony award–nominated actress, college professor, magazine editor, streetcar conductor—really? streetcar conductor? wow—calypso singer, nightclub performer, and foreign journalist, dead at 86\n"
     ]
    }
   ],
   "source": [
    "data['line_length'] = data['cleaned_headline'].str.len()\n",
    "\n",
    "print('Minimum line length: {}'.format(data['line_length'].min()))\n",
    "print('Maximum line length: {}'.format(data['line_length'].max()))\n",
    "print('Line with maximum length: {}'.format(data[data['line_length'] == data['line_length'].max()]['cleaned_headline'].values[0]))"
   ]
  },
  {
   "cell_type": "markdown",
   "metadata": {
    "id": "WnkgretFpRDy"
   },
   "source": [
    "## Initialize parameter values\n",
    "\n",
    "*   Set values for max_features, maxlen, & embedding_size\n",
    "*   max_features: Number of words to take from tokenizer(most frequent words)\n",
    "*   maxlen: Maximum length of each sentence to be limited to 25\n",
    "*   embedding_size: size of embedding vector"
   ]
  },
  {
   "cell_type": "code",
   "execution_count": 10,
   "metadata": {
    "id": "E2At6VXMpmdA"
   },
   "outputs": [],
   "source": [
    "max_features = 10000\n",
    "maxlen = 25\n",
    "embedding_size = 200"
   ]
  },
  {
   "cell_type": "markdown",
   "metadata": {
    "id": "WUvuhlIkr-o9"
   },
   "source": [
    "# Apply tensorflow.keras Tokenizer and get indices for words (3 Marks)\n",
    "\n",
    "*   Initialize Tokenizer object with number of words as 10000\n",
    "*   Fit the tokenizer object on headline column\n",
    "*   Convert the text to sequence\n",
    "\n",
    "\n",
    "\n",
    "\n"
   ]
  },
  {
   "cell_type": "code",
   "execution_count": 11,
   "metadata": {
    "id": "xM1QnU3soyke"
   },
   "outputs": [],
   "source": [
    "tokenizer = Tokenizer(num_words = max_features)\n",
    "tokenizer.fit_on_texts(list(data['cleaned_headline']))\n",
    "X = tokenizer.texts_to_sequences(data['cleaned_headline'])\n"
   ]
  },
  {
   "cell_type": "markdown",
   "metadata": {
    "id": "dF2KMqwzseKK"
   },
   "source": [
    "# Pad sequences (3 Marks)\n",
    "\n",
    "*   Pad each example with a maximum length\n",
    "*   Convert target column into numpy array\n",
    "\n",
    "\n"
   ]
  },
  {
   "cell_type": "code",
   "execution_count": 12,
   "metadata": {
    "colab": {
     "base_uri": "https://localhost:8080/",
     "height": 156
    },
    "id": "XP5PH4aXsjoa",
    "outputId": "2ca017b6-9f61-42ef-e076-e02848f4c664"
   },
   "outputs": [
    {
     "name": "stdout",
     "output_type": "stream",
     "text": [
      "Number of Samples: 26709\n",
      "Number of Labels: 26709\n",
      "\n",
      "First headline:\n",
      "[   0    0    0    0    0    0    0    0    0    0    0    0    0    0\n",
      "    0  307  678 3336 2297   47  381 2575    5 2576 8433]\n",
      "\n",
      "Label of the first headline: 0\n"
     ]
    }
   ],
   "source": [
    "X = pad_sequences(X, maxlen = maxlen)\n",
    "y = np.asarray(data['is_sarcastic'])\n",
    "\n",
    "print(f'Number of Samples: {len(X)}')\n",
    "print(f'Number of Labels: {len(y)}')\n",
    "print(f'\\nFirst headline:\\n{X[0]}\\n\\nLabel of the first headline: {y[0]}')"
   ]
  },
  {
   "cell_type": "markdown",
   "metadata": {
    "id": "A1VUFASFswF5"
   },
   "source": [
    "# Vocab mapping\n",
    "\n",
    "*   There is no word for 0th index\n",
    "\n",
    "\n"
   ]
  },
  {
   "cell_type": "code",
   "execution_count": 13,
   "metadata": {
    "colab": {
     "base_uri": "https://localhost:8080/",
     "height": 35
    },
    "id": "yoy4Ecvqs2VZ",
    "outputId": "f1af6270-58f4-45a5-ed49-60bee643e158"
   },
   "outputs": [
    {
     "name": "stdout",
     "output_type": "stream",
     "text": [
      "Number of unique tokens: 29656\n"
     ]
    }
   ],
   "source": [
    "w2i = tokenizer.word_index\n",
    "vocab_size = len(w2i)\n",
    "print(f'Number of unique tokens: {vocab_size}')"
   ]
  },
  {
   "cell_type": "markdown",
   "metadata": {
    "id": "dyAug-gwtQTy"
   },
   "source": [
    "# Set number of words\n",
    "\n",
    "*   Since the above 0th index doesn't have a word, add 1 to the length of the vocabulary"
   ]
  },
  {
   "cell_type": "code",
   "execution_count": 14,
   "metadata": {
    "colab": {
     "base_uri": "https://localhost:8080/",
     "height": 35
    },
    "id": "yc0p_H8utX3j",
    "outputId": "15f1be85-ec2e-4306-b7f1-4e249e9ff65e"
   },
   "outputs": [
    {
     "name": "stdout",
     "output_type": "stream",
     "text": [
      "29657\n"
     ]
    }
   ],
   "source": [
    "num_words = len(tokenizer.word_index) + 1\n",
    "print(num_words)"
   ]
  },
  {
   "cell_type": "markdown",
   "metadata": {
    "id": "3S7FZO8TtpIA"
   },
   "source": [
    "## Load Glove Word Embeddings (3 Marks)"
   ]
  },
  {
   "cell_type": "code",
   "execution_count": 15,
   "metadata": {
    "id": "sNYOiL1etqH7"
   },
   "outputs": [],
   "source": [
    "\n",
    "glove_file = './Data/glove.6B.zip'\n",
    "#from zipfile import ZipFile\n",
    "#with ZipFile(glove_file, 'r') as z:\n",
    "#  z.extractall()"
   ]
  },
  {
   "cell_type": "markdown",
   "metadata": {
    "id": "SxEcsQTqwUKF"
   },
   "source": [
    "## Create embedding matrix"
   ]
  },
  {
   "cell_type": "code",
   "execution_count": 23,
   "metadata": {
    "id": "yG0tauEvwVGF"
   },
   "outputs": [],
   "source": [
    "EMBEDDING_FILE = './Data/glove.6B.200d.txt'\n",
    "\n",
    "embeddings = {}\n",
    "for o in open(EMBEDDING_FILE):\n",
    "    word = o.split(\" \")[0]\n",
    "    # print(word)\n",
    "    embd = o.split(\" \")[1:]\n",
    "    embd = np.asarray(embd, dtype='float32')\n",
    "    # print(embd)\n",
    "    embeddings[word] = embd\n",
    "\n",
    "# create a weight matrix for words in training docs\n",
    "embedding_matrix = np.zeros((num_words, 200))\n",
    "\n",
    "for word, i in tokenizer.word_index.items():\n",
    "\tembedding_vector = embeddings.get(word)\n",
    "\tif embedding_vector is not None:\n",
    "\t\tembedding_matrix[i] = embedding_vector"
   ]
  },
  {
   "cell_type": "markdown",
   "metadata": {
    "id": "fckUcNogPnJi"
   },
   "source": [
    "# Define model (5 Marks)\n",
    "\n",
    "*   Hint: Use Sequential model instance and then add Embedding layer, Bidirectional(LSTM) layer, then dense and dropout layers as required. In the end add a final dense layer with sigmoid activation for binary classification"
   ]
  },
  {
   "cell_type": "code",
   "execution_count": 24,
   "metadata": {
    "colab": {
     "base_uri": "https://localhost:8080/",
     "height": 156
    },
    "id": "yCvgYVn8PrjO",
    "outputId": "65335344-c006-4931-d803-678618560daa"
   },
   "outputs": [
    {
     "name": "stdout",
     "output_type": "stream",
     "text": [
      "------------------------------------------------------------ \n",
      "Number of rows in training dataset: 21367\n",
      "Number of columns in training dataset: 25\n",
      "Number of unique words in training dataset: 9986\n",
      "------------------------------------------------------------ \n",
      "Number of rows in test dataset: 5342\n",
      "Number of columns in test dataset: 25\n",
      "Number of unique words in test dataset: 7789\n"
     ]
    }
   ],
   "source": [
    "\n",
    "x_train, x_test, y_train, y_test = train_test_split(X, y, test_size = 0.2, random_state = random_state, shuffle = True)\n",
    "\n",
    "print('---'*20, f'\\nNumber of rows in training dataset: {x_train.shape[0]}')\n",
    "print(f'Number of columns in training dataset: {x_train.shape[1]}')\n",
    "print(f'Number of unique words in training dataset: {len(np.unique(np.hstack(x_train)))}')\n",
    "\n",
    "print('---'*20, f'\\nNumber of rows in test dataset: {x_test.shape[0]}')\n",
    "print(f'Number of columns in test dataset: {x_test.shape[1]}')\n",
    "print(f'Number of unique words in test dataset: {len(np.unique(np.hstack(x_test)))}')"
   ]
  },
  {
   "cell_type": "code",
   "execution_count": 25,
   "metadata": {
    "id": "e85NwilxP0As"
   },
   "outputs": [],
   "source": [
    "\n",
    "model = Sequential()\n",
    "model.add(Embedding(num_words, embedding_size, embeddings_initializer = Constant(embedding_matrix), input_length = maxlen, trainable = False))\n",
    "model.add(Bidirectional(LSTM(128, return_sequences = True)))\n",
    "model.add(GlobalMaxPool1D())\n",
    "model.add(Dropout(0.5, input_shape = (256,)))\n",
    "model.add(Dense(128, activation = 'relu'))\n",
    "model.add(Dropout(0.5, input_shape = (128,)))\n",
    "model.add(Dense(64, activation = 'relu'))\n",
    "model.add(Dropout(0.5, input_shape = (64,)))\n",
    "model.add(Dense(1, activation = 'sigmoid'))\n",
    "\n"
   ]
  },
  {
   "cell_type": "markdown",
   "metadata": {
    "id": "LlHhEDfoQO9h"
   },
   "source": [
    "#Compile the model (3 Marks)"
   ]
  },
  {
   "cell_type": "code",
   "execution_count": 39,
   "metadata": {
    "colab": {
     "base_uri": "https://localhost:8080/",
     "height": 485
    },
    "id": "phcaY1y0QSu8",
    "outputId": "db1b74ee-fbfc-4d64-8991-ecc4fc77feeb"
   },
   "outputs": [
    {
     "name": "stdout",
     "output_type": "stream",
     "text": [
      "Model: \"sequential_1\"\n",
      "_________________________________________________________________\n",
      "Layer (type)                 Output Shape              Param #   \n",
      "=================================================================\n",
      "embedding (Embedding)        (None, 25, 200)           5931400   \n",
      "_________________________________________________________________\n",
      "bidirectional (Bidirectional (None, 25, 256)           336896    \n",
      "_________________________________________________________________\n",
      "global_max_pooling1d (Global (None, 256)               0         \n",
      "_________________________________________________________________\n",
      "dropout (Dropout)            (None, 256)               0         \n",
      "_________________________________________________________________\n",
      "dense (Dense)                (None, 128)               32896     \n",
      "_________________________________________________________________\n",
      "dropout_1 (Dropout)          (None, 128)               0         \n",
      "_________________________________________________________________\n",
      "dense_1 (Dense)              (None, 64)                8256      \n",
      "_________________________________________________________________\n",
      "dropout_2 (Dropout)          (None, 64)                0         \n",
      "_________________________________________________________________\n",
      "dense_2 (Dense)              (None, 1)                 65        \n",
      "=================================================================\n",
      "Total params: 6,309,513\n",
      "Trainable params: 378,113\n",
      "Non-trainable params: 5,931,400\n",
      "_________________________________________________________________\n",
      "None\n"
     ]
    }
   ],
   "source": [
    "model.compile(loss = 'binary_crossentropy', optimizer = 'adam', metrics = ['accuracy'])\n",
    "\n",
    "# Adding callbacks\n",
    "es = EarlyStopping(monitor = 'val_loss', mode = 'min', verbose = 1, patience = 10)  \n",
    "mc = ModelCheckpoint('sarcasm_detector.h5', monitor = 'val_loss', mode = 'min', save_best_only = True, verbose = 1)\n",
    "lr_r = ReduceLROnPlateau(monitor = 'val_loss', factor = 0.1, patience = 5),\n",
    "#logdir = 'log'; tb = TensorBoard(logdir, histogram_freq = 1)\n",
    "callbacks = [es, mc, lr_r]\n",
    "\n",
    "print(model.summary())"
   ]
  },
  {
   "cell_type": "code",
   "execution_count": null,
   "metadata": {
    "id": "kcdpgYaFTaE6"
   },
   "outputs": [],
   "source": []
  },
  {
   "cell_type": "markdown",
   "metadata": {
    "id": "8qmx_EQGQo8d"
   },
   "source": [
    "## Fit the model (4 Marks)"
   ]
  },
  {
   "cell_type": "code",
   "execution_count": 40,
   "metadata": {
    "colab": {
     "base_uri": "https://localhost:8080/",
     "height": 433
    },
    "id": "lUWlWWEZQp7X",
    "outputId": "ff4d2173-4c02-4bcf-c0ea-c0128812659a"
   },
   "outputs": [
    {
     "name": "stdout",
     "output_type": "stream",
     "text": [
      "Epoch 1/6\n",
      "\n",
      "Epoch 00001: val_loss improved from inf to 0.45263, saving model to sarcasm_detector.h5\n",
      "171/171 - 28s - loss: 0.5966 - accuracy: 0.6693 - val_loss: 0.4526 - val_accuracy: 0.7927\n",
      "Epoch 2/6\n",
      "\n",
      "Epoch 00002: val_loss improved from 0.45263 to 0.37686, saving model to sarcasm_detector.h5\n",
      "171/171 - 27s - loss: 0.4386 - accuracy: 0.8030 - val_loss: 0.3769 - val_accuracy: 0.8325\n",
      "Epoch 3/6\n",
      "\n",
      "Epoch 00003: val_loss improved from 0.37686 to 0.33989, saving model to sarcasm_detector.h5\n",
      "171/171 - 27s - loss: 0.3728 - accuracy: 0.8374 - val_loss: 0.3399 - val_accuracy: 0.8479\n",
      "Epoch 4/6\n",
      "\n",
      "Epoch 00004: val_loss improved from 0.33989 to 0.32618, saving model to sarcasm_detector.h5\n",
      "171/171 - 29s - loss: 0.3298 - accuracy: 0.8613 - val_loss: 0.3262 - val_accuracy: 0.8589\n",
      "Epoch 5/6\n",
      "\n",
      "Epoch 00005: val_loss improved from 0.32618 to 0.32289, saving model to sarcasm_detector.h5\n",
      "171/171 - 27s - loss: 0.2997 - accuracy: 0.8759 - val_loss: 0.3229 - val_accuracy: 0.8613\n",
      "Epoch 6/6\n",
      "\n",
      "Epoch 00006: val_loss did not improve from 0.32289\n",
      "171/171 - 27s - loss: 0.2595 - accuracy: 0.8935 - val_loss: 0.3241 - val_accuracy: 0.8676\n"
     ]
    }
   ],
   "source": [
    "batch_size = 100\n",
    "epochs = 6\n",
    "h= model.fit(x_train, y_train, epochs = epochs, validation_split = 0.2, batch_size = batch_size, verbose = 2, callbacks = callbacks)"
   ]
  },
  {
   "cell_type": "code",
   "execution_count": 42,
   "metadata": {
    "colab": {
     "base_uri": "https://localhost:8080/",
     "height": 491
    },
    "id": "3a2Z7WG_QKcg",
    "outputId": "7bd88e26-b10c-4d34-cf3c-3970f32ad9ad"
   },
   "outputs": [
    {
     "data": {
      "image/png": "[encoded data removed]",
      "text/plain": [
       "<Figure size 1080x518.4 with 2 Axes>"
      ]
     },
     "metadata": {
      "needs_background": "light",
      "tags": []
     },
     "output_type": "display_data"
    }
   ],
   "source": [
    "f, (ax1, ax2) = plt.subplots(1, 2, figsize = (15, 7.2))\n",
    "f.suptitle('Monitoring the performance of the model')\n",
    "\n",
    "ax1.plot(h.history['loss'], label = 'Train')\n",
    "ax1.plot(h.history['val_loss'], label = 'Test')\n",
    "ax1.set_title('Model Loss')\n",
    "ax1.legend(['Train', 'Test'])\n",
    "\n",
    "ax2.plot(h.history['accuracy'], label = 'Train')\n",
    "ax2.plot(h.history['val_accuracy'], label = 'Test')\n",
    "ax2.set_title('Model Accuracy')\n",
    "ax2.legend(['Train', 'Test'])\n",
    "\n",
    "plt.show()"
   ]
  },
  {
   "cell_type": "markdown",
   "metadata": {
    "id": "OhLFrSq1RLI1"
   },
   "source": [
    "## Evaluate the model"
   ]
  },
  {
   "cell_type": "code",
   "execution_count": 43,
   "metadata": {
    "colab": {
     "base_uri": "https://localhost:8080/",
     "height": 35
    },
    "id": "oB9iVpa9RFbb",
    "outputId": "65f5edcb-0ce3-4215-a8c1-f839dac14811"
   },
   "outputs": [
    {
     "name": "stdout",
     "output_type": "stream",
     "text": [
      "Overall Accuracy: 86.0\n"
     ]
    }
   ],
   "source": [
    "\n",
    "loss, accuracy = model.evaluate(x_test, y_test, verbose = 0)\n",
    "print('Overall Accuracy: {}'.format(round(accuracy * 100, 0)))"
   ]
  },
  {
   "cell_type": "code",
   "execution_count": 44,
   "metadata": {
    "colab": {
     "base_uri": "https://localhost:8080/",
     "height": 191
    },
    "id": "56WfEM2Y0aYB",
    "outputId": "afd92bea-666c-4ebd-8c20-c33f794dd7f2"
   },
   "outputs": [
    {
     "name": "stdout",
     "output_type": "stream",
     "text": [
      "Classification Report:\n",
      "              precision    recall  f1-score   support\n",
      "\n",
      "           0       0.91      0.86      0.88      3181\n",
      "           1       0.80      0.87      0.84      2161\n",
      "\n",
      "    accuracy                           0.86      5342\n",
      "   macro avg       0.86      0.86      0.86      5342\n",
      "weighted avg       0.87      0.86      0.86      5342\n",
      "\n"
     ]
    }
   ],
   "source": [
    "\n",
    "y_pred = (model.predict(x_test) > 0.5).astype('int32')\n",
    "print(f'Classification Report:\\n{classification_report(y_pred, y_test)}')"
   ]
  },
  {
   "cell_type": "code",
   "execution_count": 45,
   "metadata": {
    "colab": {
     "base_uri": "https://localhost:8080/",
     "height": 481
    },
    "id": "QpN5zbQKRcSS",
    "outputId": "23ea6277-a082-43df-c99a-05e603f427af"
   },
   "outputs": [
    {
     "name": "stdout",
     "output_type": "stream",
     "text": [
      "------------------------------------------------------------\n",
      "Confusion Matrix\n"
     ]
    },
    {
     "data": {
      "text/html": [
       "<div>\n",
       "<style scoped>\n",
       "    .dataframe tbody tr th:only-of-type {\n",
       "        vertical-align: middle;\n",
       "    }\n",
       "\n",
       "    .dataframe tbody tr th {\n",
       "        vertical-align: top;\n",
       "    }\n",
       "\n",
       "    .dataframe thead th {\n",
       "        text-align: right;\n",
       "    }\n",
       "</style>\n",
       "<table border=\"1\" class=\"dataframe\">\n",
       "  <thead>\n",
       "    <tr style=\"text-align: right;\">\n",
       "      <th></th>\n",
       "      <th>Non-sarcastic</th>\n",
       "      <th>Sarcastic</th>\n",
       "    </tr>\n",
       "  </thead>\n",
       "  <tbody>\n",
       "    <tr>\n",
       "      <th>Non-sarcastic</th>\n",
       "      <td>2720</td>\n",
       "      <td>276</td>\n",
       "    </tr>\n",
       "    <tr>\n",
       "      <th>Sarcastic</th>\n",
       "      <td>461</td>\n",
       "      <td>1885</td>\n",
       "    </tr>\n",
       "  </tbody>\n",
       "</table>\n",
       "</div>"
      ],
      "text/plain": [
       "               Non-sarcastic  Sarcastic\n",
       "Non-sarcastic           2720        276\n",
       "Sarcastic                461       1885"
      ]
     },
     "metadata": {
      "tags": []
     },
     "output_type": "display_data"
    },
    {
     "name": "stdout",
     "output_type": "stream",
     "text": [
      "------------------------------------------------------------\n"
     ]
    },
    {
     "data": {
      "image/png": "[encoded data removed]",
      "text/plain": [
       "<Figure size 576x360 with 2 Axes>"
      ]
     },
     "metadata": {
      "needs_background": "light",
      "tags": []
     },
     "output_type": "display_data"
    }
   ],
   "source": [
    "print('--'*30); print('Confusion Matrix')\n",
    "cm = confusion_matrix(y_test, y_pred)\n",
    "cm = pd.DataFrame(cm , index = ['Non-sarcastic', 'Sarcastic'] , columns = ['Non-sarcastic','Sarcastic'])\n",
    "display(cm); print('--'*30)\n",
    "\n",
    "plt.figure(figsize = (8, 5))\n",
    "_ = sns.heatmap(cm, cmap= 'Blues', linecolor = 'black' , linewidth = 1 , annot = True, \n",
    "            fmt = '' , xticklabels = ['Non-sarcastic', 'Sarcastic'], \n",
    "            yticklabels = ['Non-sarcastic', 'Sarcastic']).set_title('Confusion Matrix')"
   ]
  },
  {
   "cell_type": "code",
   "execution_count": 49,
   "metadata": {
    "colab": {
     "base_uri": "https://localhost:8080/",
     "height": 104
    },
    "id": "p-fI1krZRgnM",
    "outputId": "322fbb59-20cd-4dcd-caa7-91fdde73bbb2"
   },
   "outputs": [
    {
     "name": "stdout",
     "output_type": "stream",
     "text": [
      "Evaluate model on sample sarcastic lines\n",
      "------------------------------------------------------------\n",
      "`if you find me offensive. then i suggest you quit finding me.` is a Sarcastic statement.\n",
      "`if i wanted to kill myself i would climb your ego and jump to your iq.` is a Sarcastic statement.\n",
      "`amphibious pitcher makes debut` is a Sarcastic statement.\n"
     ]
    }
   ],
   "source": [
    "print('Evaluate model on sample sarcastic lines'); print('--'*30)\n",
    "statements = ['I feel so miserable without you, it\\'s almost like having you here.', #Sarcasm\n",
    "              'If you find me offensive. Then I suggest you quit finding me.', #Sarcasm\n",
    "              'If I wanted to kill myself I would climb your ego and jump to your IQ.', #Sarcasm\n",
    "              'Amphibious pitcher makes debut', #Sarcasm\n",
    "              ]\n",
    "\n",
    "for statement in statements:\n",
    "  statement = statement.lower()\n",
    "  statement = re.sub(' +', ' ', statement)\n",
    "\n",
    "  headline = tokenizer.texts_to_sequences(statement)\n",
    "  headline = pad_sequences(headline, maxlen = maxlen, dtype = 'int32', value = 0)\n",
    "\n",
    "  sentiment = (model.predict(headline) > 0.5).astype('int32')\n",
    "  if(np.argmax(sentiment) == 0):\n",
    "      print(f'`{statement}` is a Non-sarcastic statement.')\n",
    "  elif (np.argmax(sentiment) == 1):\n",
    "      print(f'`{statement}` is a Sarcastic statement.')"
   ]
  }
 ],
 "metadata": {
  "colab": {
   "collapsed_sections": [],
   "name": "Untitled0.ipynb",
   "provenance": []
  },
  "kernelspec": {
   "display_name": "Python 3",
   "language": "python",
   "name": "python3"
  },
  "language_info": {
   "codemirror_mode": {
    "name": "ipython",
    "version": 3
   },
   "file_extension": ".py",
   "mimetype": "text/x-python",
   "name": "python",
   "nbconvert_exporter": "python",
   "pygments_lexer": "ipython3",
   "version": "3.7.6"
  }
 },
 "nbformat": 4,
 "nbformat_minor": 1
}
